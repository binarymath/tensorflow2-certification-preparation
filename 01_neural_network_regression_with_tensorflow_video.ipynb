{
  "nbformat": 4,
  "nbformat_minor": 0,
  "metadata": {
    "colab": {
      "provenance": [],
      "toc_visible": true,
      "authorship_tag": "ABX9TyMErsp1DMhL+qcbvEwMGtwV",
      "include_colab_link": true
    },
    "kernelspec": {
      "name": "python3",
      "display_name": "Python 3"
    },
    "language_info": {
      "name": "python"
    }
  },
  "cells": [
    {
      "cell_type": "markdown",
      "metadata": {
        "id": "view-in-github",
        "colab_type": "text"
      },
      "source": [
        "<a href=\"https://colab.research.google.com/github/binarymath/tensorflow2-certification-preparation/blob/main/01_neural_network_regression_with_tensorflow_video.ipynb\" target=\"_parent\"><img src=\"https://colab.research.google.com/assets/colab-badge.svg\" alt=\"Open In Colab\"/></a>"
      ]
    },
    {
      "cell_type": "markdown",
      "source": [
        "# Introduction to Regression with Neural Networks in TensorFlow\n",
        "\n",
        "There are many definitions for a regression problem but in our case, we're going to simplify it: predicting a numerical variable based on some other combinastion of variables, even shorter... predicting a number."
      ],
      "metadata": {
        "id": "Sc7RDeE5Nqak"
      }
    },
    {
      "cell_type": "code",
      "source": [
        "# Import TensorFlow\n",
        "import tensorflow as tf\n",
        "print(tf.__version__)"
      ],
      "metadata": {
        "colab": {
          "base_uri": "https://localhost:8080/"
        },
        "id": "7Pv_YuugN8So",
        "outputId": "706cd85a-0dfa-4f12-b0e3-08a1e8f79250"
      },
      "execution_count": null,
      "outputs": [
        {
          "output_type": "stream",
          "name": "stdout",
          "text": [
            "2.12.0\n"
          ]
        }
      ]
    },
    {
      "cell_type": "markdown",
      "source": [
        "# Create data to view and fit"
      ],
      "metadata": {
        "id": "7u3Kj7cOPrwT"
      }
    },
    {
      "cell_type": "code",
      "source": [
        "import numpy as np\n",
        "import matplotlib.pyplot as plt\n",
        "\n",
        "# Create features\n",
        "X = np.array([-7. , -4., -1., 2., 5., 8., 11., 14.])\n",
        "\n",
        "# Create labels\n",
        "y = np.array([3., 6., 9., 12., 15., 18., 21., 24. ])\n",
        "\n",
        "# Visualize it!\n",
        "plt.scatter(X, y);"
      ],
      "metadata": {
        "colab": {
          "base_uri": "https://localhost:8080/",
          "height": 435
        },
        "id": "Uwfj8OSgPxYh",
        "outputId": "758681c9-8a64-45d2-8fcc-c99f82ba9024"
      },
      "execution_count": null,
      "outputs": [
        {
          "output_type": "display_data",
          "data": {
            "text/plain": [
              "<Figure size 640x480 with 1 Axes>"
            ],
            "image/png": "[encoded data removed]"
          },
          "metadata": {}
        }
      ]
    },
    {
      "cell_type": "code",
      "source": [
        "y == X + 10"
      ],
      "metadata": {
        "colab": {
          "base_uri": "https://localhost:8080/"
        },
        "id": "2tR8QPheRxKU",
        "outputId": "12b3415f-1da5-4663-f985-618a02150999"
      },
      "execution_count": null,
      "outputs": [
        {
          "output_type": "execute_result",
          "data": {
            "text/plain": [
              "array([ True,  True,  True,  True,  True,  True,  True,  True])"
            ]
          },
          "metadata": {},
          "execution_count": 48
        }
      ]
    },
    {
      "cell_type": "markdown",
      "source": [
        "# Input and Output shapes"
      ],
      "metadata": {
        "id": "096vNDNySi5H"
      }
    },
    {
      "cell_type": "code",
      "source": [
        "# Create a demo tensor for our housing price prediction problem\n",
        "\n",
        "house_info = tf.constant([\"bedroom\", \"bathroom\", \"garage\"])\n",
        "house_price = tf.constant([939700])\n",
        "house_info, house_price"
      ],
      "metadata": {
        "colab": {
          "base_uri": "https://localhost:8080/"
        },
        "id": "5GRlEy4MY2ts",
        "outputId": "ff99b1a1-79c2-469f-c391-c6da05169939"
      },
      "execution_count": null,
      "outputs": [
        {
          "output_type": "execute_result",
          "data": {
            "text/plain": [
              "(<tf.Tensor: shape=(3,), dtype=string, numpy=array([b'bedroom', b'bathroom', b'garage'], dtype=object)>,\n",
              " <tf.Tensor: shape=(1,), dtype=int32, numpy=array([939700], dtype=int32)>)"
            ]
          },
          "metadata": {},
          "execution_count": 49
        }
      ]
    },
    {
      "cell_type": "code",
      "source": [
        "X[0], y[0]"
      ],
      "metadata": {
        "colab": {
          "base_uri": "https://localhost:8080/"
        },
        "id": "VevgEl74ana8",
        "outputId": "3632b3aa-edfb-41c0-ebf5-b7ae7cf3e9db"
      },
      "execution_count": null,
      "outputs": [
        {
          "output_type": "execute_result",
          "data": {
            "text/plain": [
              "(-7.0, 3.0)"
            ]
          },
          "metadata": {},
          "execution_count": 50
        }
      ]
    },
    {
      "cell_type": "code",
      "source": [
        "X[1], y[1]"
      ],
      "metadata": {
        "colab": {
          "base_uri": "https://localhost:8080/"
        },
        "id": "E1ifa3Uwar07",
        "outputId": "db77abe7-24cc-43e8-b25e-aadb80faff17"
      },
      "execution_count": null,
      "outputs": [
        {
          "output_type": "execute_result",
          "data": {
            "text/plain": [
              "(-4.0, 6.0)"
            ]
          },
          "metadata": {},
          "execution_count": 51
        }
      ]
    },
    {
      "cell_type": "code",
      "source": [
        "input_shape = X[0].shape\n",
        "output_shape = y[0].shape\n",
        "\n",
        "input_shape, output_shape"
      ],
      "metadata": {
        "colab": {
          "base_uri": "https://localhost:8080/"
        },
        "id": "9E3nk3IcaxYZ",
        "outputId": "f1cc62cb-0ad2-4ae6-a844-45a7be77081b"
      },
      "execution_count": null,
      "outputs": [
        {
          "output_type": "execute_result",
          "data": {
            "text/plain": [
              "((), ())"
            ]
          },
          "metadata": {},
          "execution_count": 52
        }
      ]
    },
    {
      "cell_type": "code",
      "source": [
        "X[0].ndim"
      ],
      "metadata": {
        "colab": {
          "base_uri": "https://localhost:8080/"
        },
        "id": "Ib8B2E13bFSB",
        "outputId": "e1d2896c-481c-41ff-d7c7-7e90345228ce"
      },
      "execution_count": null,
      "outputs": [
        {
          "output_type": "execute_result",
          "data": {
            "text/plain": [
              "0"
            ]
          },
          "metadata": {},
          "execution_count": 53
        }
      ]
    },
    {
      "cell_type": "code",
      "source": [
        "# Turn our NumPy arrays into tensors\n",
        "X = tf.constant(X)\n",
        "y = tf.constant(y)\n",
        "\n",
        "X, y"
      ],
      "metadata": {
        "colab": {
          "base_uri": "https://localhost:8080/"
        },
        "id": "ukT841IC9spa",
        "outputId": "26450ad1-bc25-4c0c-c727-0e10414f5647"
      },
      "execution_count": null,
      "outputs": [
        {
          "output_type": "execute_result",
          "data": {
            "text/plain": [
              "(<tf.Tensor: shape=(8,), dtype=float64, numpy=array([-7., -4., -1.,  2.,  5.,  8., 11., 14.])>,\n",
              " <tf.Tensor: shape=(8,), dtype=float64, numpy=array([ 3.,  6.,  9., 12., 15., 18., 21., 24.])>)"
            ]
          },
          "metadata": {},
          "execution_count": 54
        }
      ]
    },
    {
      "cell_type": "code",
      "source": [
        "input_shape = X[0].shape\n",
        "output_shape = y[0].shape\n",
        "\n",
        "input_shape, output_shape"
      ],
      "metadata": {
        "colab": {
          "base_uri": "https://localhost:8080/"
        },
        "id": "f-8eKU7Y-keV",
        "outputId": "356c6499-aaee-487c-cc30-1a8175f4f55e"
      },
      "execution_count": null,
      "outputs": [
        {
          "output_type": "execute_result",
          "data": {
            "text/plain": [
              "(TensorShape([]), TensorShape([]))"
            ]
          },
          "metadata": {},
          "execution_count": 55
        }
      ]
    },
    {
      "cell_type": "code",
      "source": [
        "plt.scatter(X,y)"
      ],
      "metadata": {
        "colab": {
          "base_uri": "https://localhost:8080/",
          "height": 452
        },
        "id": "5scRFCkN_CxK",
        "outputId": "f093db7b-de0b-4781-87e0-dd1acf20098c"
      },
      "execution_count": null,
      "outputs": [
        {
          "output_type": "execute_result",
          "data": {
            "text/plain": [
              "<matplotlib.collections.PathCollection at 0x7fbf3fcd22c0>"
            ]
          },
          "metadata": {},
          "execution_count": 56
        },
        {
          "output_type": "display_data",
          "data": {
            "text/plain": [
              "<Figure size 640x480 with 1 Axes>"
            ],
            "image/png": "[encoded data removed]"
          },
          "metadata": {}
        }
      ]
    },
    {
      "cell_type": "markdown",
      "source": [
        "## Steps in modelling with TensorFlow\n",
        "\n",
        "1. **Creating a model** - define the input and input and output layers, as well as the hidden layers of a deep learning model.\n",
        "2. **Compiling a model** - define the loss function (in other words, the function which tells our model how wrong it is) and the optimizer (tells our model how to improve  the patterns its learning) amd evaluation (whatwe can use to interpreter)\n",
        "3. **Fitting a model** - letting the model try to find patterns between X & y (features and labels)"
      ],
      "metadata": {
        "id": "tZY-aTi6_cw7"
      }
    },
    {
      "cell_type": "code",
      "source": [
        "from keras.engine.training import optimizer\n",
        "# Set random sed\n",
        "tf.random.set_seed(42)\n",
        "\n",
        "# 1. Create a model\n",
        "model = tf.keras.Sequential([\n",
        "    tf.keras.layers.Dense(1)\n",
        "])\n",
        "\n",
        "# 2. Compile the model\n",
        "model.compile(loss=tf.keras.losses.mae,  # mae is short for mean absolute error\n",
        "              optimizer=tf.keras.optimizers.SGD(), #sgd is short for (stochastic gradiente descent)\n",
        "              metrics=[\"mae\"])\n",
        "\n",
        "# 3. Fit the model\n",
        "model.fit(tf.expand_dims(X, axis=-1), y, epochs=5)"
      ],
      "metadata": {
        "colab": {
          "base_uri": "https://localhost:8080/"
        },
        "id": "PfpHIweDCCpE",
        "outputId": "60c11317-1a2a-42f0-ecc4-f77721ac545a"
      },
      "execution_count": null,
      "outputs": [
        {
          "output_type": "stream",
          "name": "stdout",
          "text": [
            "Epoch 1/5\n",
            "1/1 [==============================] - 1s 551ms/step - loss: 17.3870 - mae: 17.3870\n",
            "Epoch 2/5\n",
            "1/1 [==============================] - 0s 18ms/step - loss: 17.1057 - mae: 17.1057\n",
            "Epoch 3/5\n",
            "1/1 [==============================] - 0s 21ms/step - loss: 16.8245 - mae: 16.8245\n",
            "Epoch 4/5\n",
            "1/1 [==============================] - 0s 15ms/step - loss: 16.5432 - mae: 16.5432\n",
            "Epoch 5/5\n",
            "1/1 [==============================] - 0s 10ms/step - loss: 16.2620 - mae: 16.2620\n"
          ]
        },
        {
          "output_type": "execute_result",
          "data": {
            "text/plain": [
              "<keras.callbacks.History at 0x7fbfd7cac8b0>"
            ]
          },
          "metadata": {},
          "execution_count": 57
        }
      ]
    },
    {
      "cell_type": "code",
      "source": [
        "# Check out X and y\n",
        "X, y"
      ],
      "metadata": {
        "colab": {
          "base_uri": "https://localhost:8080/"
        },
        "id": "Oze7Yp8gMKlv",
        "outputId": "5b91f50c-a88e-4356-8948-8e4b229050d3"
      },
      "execution_count": null,
      "outputs": [
        {
          "output_type": "execute_result",
          "data": {
            "text/plain": [
              "(<tf.Tensor: shape=(8,), dtype=float64, numpy=array([-7., -4., -1.,  2.,  5.,  8., 11., 14.])>,\n",
              " <tf.Tensor: shape=(8,), dtype=float64, numpy=array([ 3.,  6.,  9., 12., 15., 18., 21., 24.])>)"
            ]
          },
          "metadata": {},
          "execution_count": 58
        }
      ]
    },
    {
      "cell_type": "code",
      "source": [
        "# Try and make a prediction using our model\n",
        "y_predict = model.predict([17.0])\n",
        "y_predict"
      ],
      "metadata": {
        "colab": {
          "base_uri": "https://localhost:8080/"
        },
        "id": "79xg8g4-MkXV",
        "outputId": "d189682c-53e2-485f-a50f-d89ec5dfc87b"
      },
      "execution_count": null,
      "outputs": [
        {
          "output_type": "stream",
          "name": "stdout",
          "text": [
            "1/1 [==============================] - 0s 68ms/step\n"
          ]
        },
        {
          "output_type": "execute_result",
          "data": {
            "text/plain": [
              "array([[-10.514893]], dtype=float32)"
            ]
          },
          "metadata": {},
          "execution_count": 59
        }
      ]
    },
    {
      "cell_type": "markdown",
      "source": [
        "# Improving our model\n",
        "\n",
        "We can improve our model, by altering the steps we took to create a model.\n",
        "\n",
        "1. **Creating a model** -here we might add more layers, increase the number of hidden units (all called neurons) within each of the hidden layers, change the activation function of each layer.\n",
        "2.**Compiling a model** = here we might change the optimization function or perhaps the **learning rate** of the optimization function.\n",
        "3.**Fitting a model** here we might fit a model for more **epochs** (leave it training for longer) or on more data (give the model more examples to learn from). -\n",
        "\n",
        "\n",
        "\n"
      ],
      "metadata": {
        "id": "6367MrH3N385"
      }
    },
    {
      "cell_type": "code",
      "source": [
        "from keras.engine.training import optimizer\n",
        "# Set random sed\n",
        "tf.random.set_seed(42)\n",
        "\n",
        "# 1. Create a model\n",
        "model = tf.keras.Sequential([\n",
        "    tf.keras.layers.Dense(1)\n",
        "])\n",
        "\n",
        "# 2. Compile the model\n",
        "model.compile(loss=tf.keras.losses.mae,  # mae is short for mean absolute error\n",
        "              optimizer=tf.keras.optimizers.SGD(), #sgd is short for (stochastic gradiente descent)\n",
        "              metrics=[\"mae\"])\n",
        "\n",
        "# 3. Fit the model\n",
        "model.fit(tf.expand_dims(X, axis=-1), y, epochs=100)"
      ],
      "metadata": {
        "colab": {
          "base_uri": "https://localhost:8080/"
        },
        "outputId": "d9aea75e-1958-428e-ea47-d007ba981d7f",
        "id": "VHKz0aQdAgEe"
      },
      "execution_count": null,
      "outputs": [
        {
          "output_type": "stream",
          "name": "stdout",
          "text": [
            "Epoch 1/100\n",
            "1/1 [==============================] - 0s 373ms/step - loss: 16.4414 - mae: 16.4414\n",
            "Epoch 2/100\n",
            "1/1 [==============================] - 0s 14ms/step - loss: 16.1602 - mae: 16.1602\n",
            "Epoch 3/100\n",
            "1/1 [==============================] - 0s 13ms/step - loss: 15.8789 - mae: 15.8789\n",
            "Epoch 4/100\n",
            "1/1 [==============================] - 0s 17ms/step - loss: 15.5977 - mae: 15.5977\n",
            "Epoch 5/100\n",
            "1/1 [==============================] - 0s 18ms/step - loss: 15.3164 - mae: 15.3164\n",
            "Epoch 6/100\n",
            "1/1 [==============================] - 0s 10ms/step - loss: 15.0352 - mae: 15.0352\n",
            "Epoch 7/100\n",
            "1/1 [==============================] - 0s 12ms/step - loss: 14.8135 - mae: 14.8135\n",
            "Epoch 8/100\n",
            "1/1 [==============================] - 0s 14ms/step - loss: 14.6810 - mae: 14.6810\n",
            "Epoch 9/100\n",
            "1/1 [==============================] - 0s 12ms/step - loss: 14.5485 - mae: 14.5485\n",
            "Epoch 10/100\n",
            "1/1 [==============================] - 0s 15ms/step - loss: 14.4160 - mae: 14.4160\n",
            "Epoch 11/100\n",
            "1/1 [==============================] - 0s 10ms/step - loss: 14.2835 - mae: 14.2835\n",
            "Epoch 12/100\n",
            "1/1 [==============================] - 0s 10ms/step - loss: 14.1510 - mae: 14.1510\n",
            "Epoch 13/100\n",
            "1/1 [==============================] - 0s 10ms/step - loss: 14.0185 - mae: 14.0185\n",
            "Epoch 14/100\n",
            "1/1 [==============================] - 0s 9ms/step - loss: 13.8860 - mae: 13.8860\n",
            "Epoch 15/100\n",
            "1/1 [==============================] - 0s 10ms/step - loss: 13.7535 - mae: 13.7535\n",
            "Epoch 16/100\n",
            "1/1 [==============================] - 0s 10ms/step - loss: 13.6210 - mae: 13.6210\n",
            "Epoch 17/100\n",
            "1/1 [==============================] - 0s 10ms/step - loss: 13.4885 - mae: 13.4885\n",
            "Epoch 18/100\n",
            "1/1 [==============================] - 0s 11ms/step - loss: 13.3560 - mae: 13.3560\n",
            "Epoch 19/100\n",
            "1/1 [==============================] - 0s 10ms/step - loss: 13.2235 - mae: 13.2235\n",
            "Epoch 20/100\n",
            "1/1 [==============================] - 0s 10ms/step - loss: 13.0910 - mae: 13.0910\n",
            "Epoch 21/100\n",
            "1/1 [==============================] - 0s 10ms/step - loss: 12.9585 - mae: 12.9585\n",
            "Epoch 22/100\n",
            "1/1 [==============================] - 0s 10ms/step - loss: 12.8260 - mae: 12.8260\n",
            "Epoch 23/100\n",
            "1/1 [==============================] - 0s 10ms/step - loss: 12.6935 - mae: 12.6935\n",
            "Epoch 24/100\n",
            "1/1 [==============================] - 0s 10ms/step - loss: 12.5610 - mae: 12.5610\n",
            "Epoch 25/100\n",
            "1/1 [==============================] - 0s 10ms/step - loss: 12.4285 - mae: 12.4285\n",
            "Epoch 26/100\n",
            "1/1 [==============================] - 0s 10ms/step - loss: 12.2960 - mae: 12.2960\n",
            "Epoch 27/100\n",
            "1/1 [==============================] - 0s 11ms/step - loss: 12.1635 - mae: 12.1635\n",
            "Epoch 28/100\n",
            "1/1 [==============================] - 0s 12ms/step - loss: 12.0310 - mae: 12.0310\n",
            "Epoch 29/100\n",
            "1/1 [==============================] - 0s 10ms/step - loss: 11.8985 - mae: 11.8985\n",
            "Epoch 30/100\n",
            "1/1 [==============================] - 0s 9ms/step - loss: 11.7660 - mae: 11.7660\n",
            "Epoch 31/100\n",
            "1/1 [==============================] - 0s 10ms/step - loss: 11.6335 - mae: 11.6335\n",
            "Epoch 32/100\n",
            "1/1 [==============================] - 0s 11ms/step - loss: 11.5010 - mae: 11.5010\n",
            "Epoch 33/100\n",
            "1/1 [==============================] - 0s 10ms/step - loss: 11.3685 - mae: 11.3685\n",
            "Epoch 34/100\n",
            "1/1 [==============================] - 0s 10ms/step - loss: 11.2360 - mae: 11.2360\n",
            "Epoch 35/100\n",
            "1/1 [==============================] - 0s 10ms/step - loss: 11.1035 - mae: 11.1035\n",
            "Epoch 36/100\n",
            "1/1 [==============================] - 0s 11ms/step - loss: 10.9710 - mae: 10.9710\n",
            "Epoch 37/100\n",
            "1/1 [==============================] - 0s 10ms/step - loss: 10.8385 - mae: 10.8385\n",
            "Epoch 38/100\n",
            "1/1 [==============================] - 0s 10ms/step - loss: 10.7060 - mae: 10.7060\n",
            "Epoch 39/100\n",
            "1/1 [==============================] - 0s 10ms/step - loss: 10.5735 - mae: 10.5735\n",
            "Epoch 40/100\n",
            "1/1 [==============================] - 0s 10ms/step - loss: 10.4410 - mae: 10.4410\n",
            "Epoch 41/100\n",
            "1/1 [==============================] - 0s 11ms/step - loss: 10.3085 - mae: 10.3085\n",
            "Epoch 42/100\n",
            "1/1 [==============================] - 0s 10ms/step - loss: 10.1760 - mae: 10.1760\n",
            "Epoch 43/100\n",
            "1/1 [==============================] - 0s 10ms/step - loss: 10.0435 - mae: 10.0435\n",
            "Epoch 44/100\n",
            "1/1 [==============================] - 0s 10ms/step - loss: 9.9110 - mae: 9.9110\n",
            "Epoch 45/100\n",
            "1/1 [==============================] - 0s 10ms/step - loss: 9.7785 - mae: 9.7785\n",
            "Epoch 46/100\n",
            "1/1 [==============================] - 0s 11ms/step - loss: 9.6460 - mae: 9.6460\n",
            "Epoch 47/100\n",
            "1/1 [==============================] - 0s 11ms/step - loss: 9.5135 - mae: 9.5135\n",
            "Epoch 48/100\n",
            "1/1 [==============================] - 0s 10ms/step - loss: 9.3810 - mae: 9.3810\n",
            "Epoch 49/100\n",
            "1/1 [==============================] - 0s 10ms/step - loss: 9.2485 - mae: 9.2485\n",
            "Epoch 50/100\n",
            "1/1 [==============================] - 0s 11ms/step - loss: 9.1160 - mae: 9.1160\n",
            "Epoch 51/100\n",
            "1/1 [==============================] - 0s 10ms/step - loss: 8.9835 - mae: 8.9835\n",
            "Epoch 52/100\n",
            "1/1 [==============================] - 0s 10ms/step - loss: 8.8510 - mae: 8.8510\n",
            "Epoch 53/100\n",
            "1/1 [==============================] - 0s 10ms/step - loss: 8.7185 - mae: 8.7185\n",
            "Epoch 54/100\n",
            "1/1 [==============================] - 0s 9ms/step - loss: 8.5860 - mae: 8.5860\n",
            "Epoch 55/100\n",
            "1/1 [==============================] - 0s 11ms/step - loss: 8.4535 - mae: 8.4535\n",
            "Epoch 56/100\n",
            "1/1 [==============================] - 0s 12ms/step - loss: 8.3210 - mae: 8.3210\n",
            "Epoch 57/100\n",
            "1/1 [==============================] - 0s 15ms/step - loss: 8.1885 - mae: 8.1885\n",
            "Epoch 58/100\n",
            "1/1 [==============================] - 0s 14ms/step - loss: 8.0560 - mae: 8.0560\n",
            "Epoch 59/100\n",
            "1/1 [==============================] - 0s 11ms/step - loss: 7.9235 - mae: 7.9235\n",
            "Epoch 60/100\n",
            "1/1 [==============================] - 0s 10ms/step - loss: 7.7910 - mae: 7.7910\n",
            "Epoch 61/100\n",
            "1/1 [==============================] - 0s 14ms/step - loss: 7.6585 - mae: 7.6585\n",
            "Epoch 62/100\n",
            "1/1 [==============================] - 0s 11ms/step - loss: 7.5260 - mae: 7.5260\n",
            "Epoch 63/100\n",
            "1/1 [==============================] - 0s 10ms/step - loss: 7.3935 - mae: 7.3935\n",
            "Epoch 64/100\n",
            "1/1 [==============================] - 0s 15ms/step - loss: 7.2610 - mae: 7.2610\n",
            "Epoch 65/100\n",
            "1/1 [==============================] - 0s 10ms/step - loss: 7.1285 - mae: 7.1285\n",
            "Epoch 66/100\n",
            "1/1 [==============================] - 0s 10ms/step - loss: 7.0238 - mae: 7.0238\n",
            "Epoch 67/100\n",
            "1/1 [==============================] - 0s 16ms/step - loss: 7.0181 - mae: 7.0181\n",
            "Epoch 68/100\n",
            "1/1 [==============================] - 0s 10ms/step - loss: 7.0125 - mae: 7.0125\n",
            "Epoch 69/100\n",
            "1/1 [==============================] - 0s 10ms/step - loss: 7.0069 - mae: 7.0069\n",
            "Epoch 70/100\n",
            "1/1 [==============================] - 0s 10ms/step - loss: 7.0013 - mae: 7.0013\n",
            "Epoch 71/100\n",
            "1/1 [==============================] - 0s 10ms/step - loss: 6.9956 - mae: 6.9956\n",
            "Epoch 72/100\n",
            "1/1 [==============================] - 0s 10ms/step - loss: 6.9900 - mae: 6.9900\n",
            "Epoch 73/100\n",
            "1/1 [==============================] - 0s 10ms/step - loss: 6.9844 - mae: 6.9844\n",
            "Epoch 74/100\n",
            "1/1 [==============================] - 0s 11ms/step - loss: 6.9788 - mae: 6.9788\n",
            "Epoch 75/100\n",
            "1/1 [==============================] - 0s 11ms/step - loss: 6.9731 - mae: 6.9731\n",
            "Epoch 76/100\n",
            "1/1 [==============================] - 0s 15ms/step - loss: 6.9675 - mae: 6.9675\n",
            "Epoch 77/100\n",
            "1/1 [==============================] - 0s 14ms/step - loss: 6.9619 - mae: 6.9619\n",
            "Epoch 78/100\n",
            "1/1 [==============================] - 0s 15ms/step - loss: 6.9563 - mae: 6.9563\n",
            "Epoch 79/100\n",
            "1/1 [==============================] - 0s 12ms/step - loss: 6.9506 - mae: 6.9506\n",
            "Epoch 80/100\n",
            "1/1 [==============================] - 0s 11ms/step - loss: 6.9450 - mae: 6.9450\n",
            "Epoch 81/100\n",
            "1/1 [==============================] - 0s 10ms/step - loss: 6.9394 - mae: 6.9394\n",
            "Epoch 82/100\n",
            "1/1 [==============================] - 0s 11ms/step - loss: 6.9338 - mae: 6.9338\n",
            "Epoch 83/100\n",
            "1/1 [==============================] - 0s 11ms/step - loss: 6.9281 - mae: 6.9281\n",
            "Epoch 84/100\n",
            "1/1 [==============================] - 0s 11ms/step - loss: 6.9225 - mae: 6.9225\n",
            "Epoch 85/100\n",
            "1/1 [==============================] - 0s 14ms/step - loss: 6.9169 - mae: 6.9169\n",
            "Epoch 86/100\n",
            "1/1 [==============================] - 0s 12ms/step - loss: 6.9113 - mae: 6.9113\n",
            "Epoch 87/100\n",
            "1/1 [==============================] - 0s 11ms/step - loss: 6.9056 - mae: 6.9056\n",
            "Epoch 88/100\n",
            "1/1 [==============================] - 0s 9ms/step - loss: 6.9000 - mae: 6.9000\n",
            "Epoch 89/100\n",
            "1/1 [==============================] - 0s 13ms/step - loss: 6.8944 - mae: 6.8944\n",
            "Epoch 90/100\n",
            "1/1 [==============================] - 0s 11ms/step - loss: 6.8888 - mae: 6.8888\n",
            "Epoch 91/100\n",
            "1/1 [==============================] - 0s 11ms/step - loss: 6.8831 - mae: 6.8831\n",
            "Epoch 92/100\n",
            "1/1 [==============================] - 0s 9ms/step - loss: 6.8775 - mae: 6.8775\n",
            "Epoch 93/100\n",
            "1/1 [==============================] - 0s 11ms/step - loss: 6.8719 - mae: 6.8719\n",
            "Epoch 94/100\n",
            "1/1 [==============================] - 0s 11ms/step - loss: 6.8663 - mae: 6.8663\n",
            "Epoch 95/100\n",
            "1/1 [==============================] - 0s 13ms/step - loss: 6.8606 - mae: 6.8606\n",
            "Epoch 96/100\n",
            "1/1 [==============================] - 0s 10ms/step - loss: 6.8550 - mae: 6.8550\n",
            "Epoch 97/100\n",
            "1/1 [==============================] - 0s 10ms/step - loss: 6.8494 - mae: 6.8494\n",
            "Epoch 98/100\n",
            "1/1 [==============================] - 0s 10ms/step - loss: 6.8438 - mae: 6.8438\n",
            "Epoch 99/100\n",
            "1/1 [==============================] - 0s 9ms/step - loss: 6.8381 - mae: 6.8381\n",
            "Epoch 100/100\n",
            "1/1 [==============================] - 0s 10ms/step - loss: 6.8325 - mae: 6.8325\n"
          ]
        },
        {
          "output_type": "execute_result",
          "data": {
            "text/plain": [
              "<keras.callbacks.History at 0x7fbf3ff19330>"
            ]
          },
          "metadata": {},
          "execution_count": 60
        }
      ]
    },
    {
      "cell_type": "code",
      "source": [
        "# Remind ourselves of the data\n",
        "X,y"
      ],
      "metadata": {
        "colab": {
          "base_uri": "https://localhost:8080/"
        },
        "id": "Y2NUro9x8ACx",
        "outputId": "f3256dc7-e093-4e14-ff8f-5f9cb371c7ca"
      },
      "execution_count": null,
      "outputs": [
        {
          "output_type": "execute_result",
          "data": {
            "text/plain": [
              "(<tf.Tensor: shape=(8,), dtype=float64, numpy=array([-7., -4., -1.,  2.,  5.,  8., 11., 14.])>,\n",
              " <tf.Tensor: shape=(8,), dtype=float64, numpy=array([ 3.,  6.,  9., 12., 15., 18., 21., 24.])>)"
            ]
          },
          "metadata": {},
          "execution_count": 61
        }
      ]
    },
    {
      "cell_type": "code",
      "source": [
        "# Let's see if our model's prediction has improved ...\n",
        "model.predict([17.0])"
      ],
      "metadata": {
        "colab": {
          "base_uri": "https://localhost:8080/"
        },
        "id": "4usY14Jk9T_5",
        "outputId": "520fcd82-718b-4257-9d46-4dfb5d0822e5"
      },
      "execution_count": null,
      "outputs": [
        {
          "output_type": "stream",
          "name": "stdout",
          "text": [
            "1/1 [==============================] - 0s 66ms/step\n"
          ]
        },
        {
          "output_type": "execute_result",
          "data": {
            "text/plain": [
              "array([[29.404253]], dtype=float32)"
            ]
          },
          "metadata": {},
          "execution_count": 62
        }
      ]
    },
    {
      "cell_type": "code",
      "source": [
        "# Let's see if we can make another to improve our model\n",
        "\n",
        "# 1. Create the model (this time with an extra hidden layer 100 hidden units)\n",
        "model = tf.keras.Sequential([\n",
        "    tf.keras.layers.Dense(50, activation=None),\n",
        "    tf.keras.layers.Dense(1)\n",
        "])\n",
        "\n",
        "# 2. Compiling other model.\n",
        "model.compile(loss=tf.keras.losses.mae,\n",
        "              optimizer = tf.keras.optimizers.Adam(learning_rate=0.01),\n",
        "              metrics=[\"mae\"])\n",
        "\n",
        "# 3. Fit model\n",
        "model.fit(tf.expand_dims(X, axis=-1), y, epochs=100)"
      ],
      "metadata": {
        "colab": {
          "base_uri": "https://localhost:8080/"
        },
        "id": "8GHsR1Rz9oun",
        "outputId": "cfa87301-4309-4585-ce36-8971c4e3c88a"
      },
      "execution_count": null,
      "outputs": [
        {
          "output_type": "stream",
          "name": "stdout",
          "text": [
            "Epoch 1/100\n",
            "1/1 [==============================] - 1s 653ms/step - loss: 13.3880 - mae: 13.3880\n",
            "Epoch 2/100\n",
            "1/1 [==============================] - 0s 18ms/step - loss: 12.7406 - mae: 12.7406\n",
            "Epoch 3/100\n",
            "1/1 [==============================] - 0s 14ms/step - loss: 12.0953 - mae: 12.0953\n",
            "Epoch 4/100\n",
            "1/1 [==============================] - 0s 13ms/step - loss: 11.4498 - mae: 11.4498\n",
            "Epoch 5/100\n",
            "1/1 [==============================] - 0s 13ms/step - loss: 10.8018 - mae: 10.8018\n",
            "Epoch 6/100\n",
            "1/1 [==============================] - 0s 14ms/step - loss: 10.1484 - mae: 10.1484\n",
            "Epoch 7/100\n",
            "1/1 [==============================] - 0s 13ms/step - loss: 9.4864 - mae: 9.4864\n",
            "Epoch 8/100\n",
            "1/1 [==============================] - 0s 15ms/step - loss: 8.8124 - mae: 8.8124\n",
            "Epoch 9/100\n",
            "1/1 [==============================] - 0s 10ms/step - loss: 8.1229 - mae: 8.1229\n",
            "Epoch 10/100\n",
            "1/1 [==============================] - 0s 16ms/step - loss: 7.4149 - mae: 7.4149\n",
            "Epoch 11/100\n",
            "1/1 [==============================] - 0s 12ms/step - loss: 6.7756 - mae: 6.7756\n",
            "Epoch 12/100\n",
            "1/1 [==============================] - 0s 10ms/step - loss: 6.7504 - mae: 6.7504\n",
            "Epoch 13/100\n",
            "1/1 [==============================] - 0s 12ms/step - loss: 7.0191 - mae: 7.0191\n",
            "Epoch 14/100\n",
            "1/1 [==============================] - 0s 13ms/step - loss: 7.1831 - mae: 7.1831\n",
            "Epoch 15/100\n",
            "1/1 [==============================] - 0s 12ms/step - loss: 7.2570 - mae: 7.2570\n",
            "Epoch 16/100\n",
            "1/1 [==============================] - 0s 11ms/step - loss: 7.3093 - mae: 7.3093\n",
            "Epoch 17/100\n",
            "1/1 [==============================] - 0s 11ms/step - loss: 7.1771 - mae: 7.1771\n",
            "Epoch 18/100\n",
            "1/1 [==============================] - 0s 11ms/step - loss: 6.9689 - mae: 6.9689\n",
            "Epoch 19/100\n",
            "1/1 [==============================] - 0s 13ms/step - loss: 6.7593 - mae: 6.7593\n",
            "Epoch 20/100\n",
            "1/1 [==============================] - 0s 12ms/step - loss: 6.5263 - mae: 6.5263\n",
            "Epoch 21/100\n",
            "1/1 [==============================] - 0s 11ms/step - loss: 6.2752 - mae: 6.2752\n",
            "Epoch 22/100\n",
            "1/1 [==============================] - 0s 10ms/step - loss: 6.0924 - mae: 6.0924\n",
            "Epoch 23/100\n",
            "1/1 [==============================] - 0s 10ms/step - loss: 6.0478 - mae: 6.0478\n",
            "Epoch 24/100\n",
            "1/1 [==============================] - 0s 10ms/step - loss: 6.0143 - mae: 6.0143\n",
            "Epoch 25/100\n",
            "1/1 [==============================] - 0s 10ms/step - loss: 6.0585 - mae: 6.0585\n",
            "Epoch 26/100\n",
            "1/1 [==============================] - 0s 12ms/step - loss: 5.9994 - mae: 5.9994\n",
            "Epoch 27/100\n",
            "1/1 [==============================] - 0s 11ms/step - loss: 5.8502 - mae: 5.8502\n",
            "Epoch 28/100\n",
            "1/1 [==============================] - 0s 14ms/step - loss: 5.6833 - mae: 5.6833\n",
            "Epoch 29/100\n",
            "1/1 [==============================] - 0s 11ms/step - loss: 5.5852 - mae: 5.5852\n",
            "Epoch 30/100\n",
            "1/1 [==============================] - 0s 11ms/step - loss: 5.4837 - mae: 5.4837\n",
            "Epoch 31/100\n",
            "1/1 [==============================] - 0s 9ms/step - loss: 5.3787 - mae: 5.3787\n",
            "Epoch 32/100\n",
            "1/1 [==============================] - 0s 10ms/step - loss: 5.3577 - mae: 5.3577\n",
            "Epoch 33/100\n",
            "1/1 [==============================] - 0s 9ms/step - loss: 5.3139 - mae: 5.3139\n",
            "Epoch 34/100\n",
            "1/1 [==============================] - 0s 9ms/step - loss: 5.2276 - mae: 5.2276\n",
            "Epoch 35/100\n",
            "1/1 [==============================] - 0s 10ms/step - loss: 5.1024 - mae: 5.1024\n",
            "Epoch 36/100\n",
            "1/1 [==============================] - 0s 11ms/step - loss: 4.9415 - mae: 4.9415\n",
            "Epoch 37/100\n",
            "1/1 [==============================] - 0s 13ms/step - loss: 4.7920 - mae: 4.7920\n",
            "Epoch 38/100\n",
            "1/1 [==============================] - 0s 11ms/step - loss: 4.6961 - mae: 4.6961\n",
            "Epoch 39/100\n",
            "1/1 [==============================] - 0s 11ms/step - loss: 4.5923 - mae: 4.5923\n",
            "Epoch 40/100\n",
            "1/1 [==============================] - 0s 12ms/step - loss: 4.4803 - mae: 4.4803\n",
            "Epoch 41/100\n",
            "1/1 [==============================] - 0s 14ms/step - loss: 4.3602 - mae: 4.3602\n",
            "Epoch 42/100\n",
            "1/1 [==============================] - 0s 13ms/step - loss: 4.2591 - mae: 4.2591\n",
            "Epoch 43/100\n",
            "1/1 [==============================] - 0s 10ms/step - loss: 4.0836 - mae: 4.0836\n",
            "Epoch 44/100\n",
            "1/1 [==============================] - 0s 10ms/step - loss: 3.9274 - mae: 3.9274\n",
            "Epoch 45/100\n",
            "1/1 [==============================] - 0s 12ms/step - loss: 3.7628 - mae: 3.7628\n",
            "Epoch 46/100\n",
            "1/1 [==============================] - 0s 10ms/step - loss: 3.5894 - mae: 3.5894\n",
            "Epoch 47/100\n",
            "1/1 [==============================] - 0s 10ms/step - loss: 3.4434 - mae: 3.4434\n",
            "Epoch 48/100\n",
            "1/1 [==============================] - 0s 12ms/step - loss: 3.2832 - mae: 3.2832\n",
            "Epoch 49/100\n",
            "1/1 [==============================] - 0s 16ms/step - loss: 3.0640 - mae: 3.0640\n",
            "Epoch 50/100\n",
            "1/1 [==============================] - 0s 15ms/step - loss: 2.8751 - mae: 2.8751\n",
            "Epoch 51/100\n",
            "1/1 [==============================] - 0s 11ms/step - loss: 2.6868 - mae: 2.6868\n",
            "Epoch 52/100\n",
            "1/1 [==============================] - 0s 14ms/step - loss: 2.5571 - mae: 2.5571\n",
            "Epoch 53/100\n",
            "1/1 [==============================] - 0s 12ms/step - loss: 2.2799 - mae: 2.2799\n",
            "Epoch 54/100\n",
            "1/1 [==============================] - 0s 10ms/step - loss: 2.0088 - mae: 2.0088\n",
            "Epoch 55/100\n",
            "1/1 [==============================] - 0s 11ms/step - loss: 1.9039 - mae: 1.9039\n",
            "Epoch 56/100\n",
            "1/1 [==============================] - 0s 10ms/step - loss: 1.7665 - mae: 1.7665\n",
            "Epoch 57/100\n",
            "1/1 [==============================] - 0s 11ms/step - loss: 1.4461 - mae: 1.4461\n",
            "Epoch 58/100\n",
            "1/1 [==============================] - 0s 10ms/step - loss: 1.0187 - mae: 1.0187\n",
            "Epoch 59/100\n",
            "1/1 [==============================] - 0s 10ms/step - loss: 1.0075 - mae: 1.0075\n",
            "Epoch 60/100\n",
            "1/1 [==============================] - 0s 11ms/step - loss: 0.8834 - mae: 0.8834\n",
            "Epoch 61/100\n",
            "1/1 [==============================] - 0s 10ms/step - loss: 0.6208 - mae: 0.6208\n",
            "Epoch 62/100\n",
            "1/1 [==============================] - 0s 12ms/step - loss: 0.2233 - mae: 0.2233\n",
            "Epoch 63/100\n",
            "1/1 [==============================] - 0s 10ms/step - loss: 0.6947 - mae: 0.6947\n",
            "Epoch 64/100\n",
            "1/1 [==============================] - 0s 10ms/step - loss: 1.1239 - mae: 1.1239\n",
            "Epoch 65/100\n",
            "1/1 [==============================] - 0s 10ms/step - loss: 1.2930 - mae: 1.2930\n",
            "Epoch 66/100\n",
            "1/1 [==============================] - 0s 8ms/step - loss: 1.2318 - mae: 1.2318\n",
            "Epoch 67/100\n",
            "1/1 [==============================] - 0s 11ms/step - loss: 0.9710 - mae: 0.9710\n",
            "Epoch 68/100\n",
            "1/1 [==============================] - 0s 13ms/step - loss: 0.6153 - mae: 0.6153\n",
            "Epoch 69/100\n",
            "1/1 [==============================] - 0s 11ms/step - loss: 0.7952 - mae: 0.7952\n",
            "Epoch 70/100\n",
            "1/1 [==============================] - 0s 17ms/step - loss: 0.8116 - mae: 0.8116\n",
            "Epoch 71/100\n",
            "1/1 [==============================] - 0s 13ms/step - loss: 0.5114 - mae: 0.5114\n",
            "Epoch 72/100\n",
            "1/1 [==============================] - 0s 17ms/step - loss: 0.3065 - mae: 0.3065\n",
            "Epoch 73/100\n",
            "1/1 [==============================] - 0s 10ms/step - loss: 0.3342 - mae: 0.3342\n",
            "Epoch 74/100\n",
            "1/1 [==============================] - 0s 11ms/step - loss: 0.1779 - mae: 0.1779\n",
            "Epoch 75/100\n",
            "1/1 [==============================] - 0s 18ms/step - loss: 0.3628 - mae: 0.3628\n",
            "Epoch 76/100\n",
            "1/1 [==============================] - 0s 15ms/step - loss: 0.5742 - mae: 0.5742\n",
            "Epoch 77/100\n",
            "1/1 [==============================] - 0s 14ms/step - loss: 0.5557 - mae: 0.5557\n",
            "Epoch 78/100\n",
            "1/1 [==============================] - 0s 11ms/step - loss: 0.3944 - mae: 0.3944\n",
            "Epoch 79/100\n",
            "1/1 [==============================] - 0s 13ms/step - loss: 0.3525 - mae: 0.3525\n",
            "Epoch 80/100\n",
            "1/1 [==============================] - 0s 11ms/step - loss: 0.4790 - mae: 0.4790\n",
            "Epoch 81/100\n",
            "1/1 [==============================] - 0s 11ms/step - loss: 0.3379 - mae: 0.3379\n",
            "Epoch 82/100\n",
            "1/1 [==============================] - 0s 9ms/step - loss: 0.1056 - mae: 0.1056\n",
            "Epoch 83/100\n",
            "1/1 [==============================] - 0s 11ms/step - loss: 0.2385 - mae: 0.2385\n",
            "Epoch 84/100\n",
            "1/1 [==============================] - 0s 11ms/step - loss: 0.1387 - mae: 0.1387\n",
            "Epoch 85/100\n",
            "1/1 [==============================] - 0s 11ms/step - loss: 0.3644 - mae: 0.3644\n",
            "Epoch 86/100\n",
            "1/1 [==============================] - 0s 15ms/step - loss: 0.4629 - mae: 0.4629\n",
            "Epoch 87/100\n",
            "1/1 [==============================] - 0s 16ms/step - loss: 0.3525 - mae: 0.3525\n",
            "Epoch 88/100\n",
            "1/1 [==============================] - 0s 11ms/step - loss: 0.1315 - mae: 0.1315\n",
            "Epoch 89/100\n",
            "1/1 [==============================] - 0s 11ms/step - loss: 0.2285 - mae: 0.2285\n",
            "Epoch 90/100\n",
            "1/1 [==============================] - 0s 10ms/step - loss: 0.0864 - mae: 0.0864\n",
            "Epoch 91/100\n",
            "1/1 [==============================] - 0s 11ms/step - loss: 0.3183 - mae: 0.3183\n",
            "Epoch 92/100\n",
            "1/1 [==============================] - 0s 13ms/step - loss: 0.3975 - mae: 0.3975\n",
            "Epoch 93/100\n",
            "1/1 [==============================] - 0s 12ms/step - loss: 0.2246 - mae: 0.2246\n",
            "Epoch 94/100\n",
            "1/1 [==============================] - 0s 11ms/step - loss: 0.3372 - mae: 0.3372\n",
            "Epoch 95/100\n",
            "1/1 [==============================] - 0s 11ms/step - loss: 0.4897 - mae: 0.4897\n",
            "Epoch 96/100\n",
            "1/1 [==============================] - 0s 11ms/step - loss: 0.4437 - mae: 0.4437\n",
            "Epoch 97/100\n",
            "1/1 [==============================] - 0s 10ms/step - loss: 0.1768 - mae: 0.1768\n",
            "Epoch 98/100\n",
            "1/1 [==============================] - 0s 10ms/step - loss: 0.2865 - mae: 0.2865\n",
            "Epoch 99/100\n",
            "1/1 [==============================] - 0s 10ms/step - loss: 0.4065 - mae: 0.4065\n",
            "Epoch 100/100\n",
            "1/1 [==============================] - 0s 11ms/step - loss: 0.2759 - mae: 0.2759\n"
          ]
        },
        {
          "output_type": "execute_result",
          "data": {
            "text/plain": [
              "<keras.callbacks.History at 0x7fbf3fb2b310>"
            ]
          },
          "metadata": {},
          "execution_count": 63
        }
      ]
    },
    {
      "cell_type": "code",
      "source": [
        "# Predict\n",
        "model.predict([17.0])"
      ],
      "metadata": {
        "colab": {
          "base_uri": "https://localhost:8080/"
        },
        "id": "WM_SozTrDRuZ",
        "outputId": "6d857c49-90ab-499e-81fa-4240af345070"
      },
      "execution_count": null,
      "outputs": [
        {
          "output_type": "stream",
          "name": "stdout",
          "text": [
            "1/1 [==============================] - 0s 85ms/step\n"
          ]
        },
        {
          "output_type": "execute_result",
          "data": {
            "text/plain": [
              "array([[26.715633]], dtype=float32)"
            ]
          },
          "metadata": {},
          "execution_count": 64
        }
      ]
    },
    {
      "cell_type": "markdown",
      "source": [
        "# Evaluting a model\n",
        "\n",
        "In practice, a typical workflow you'll go throught when building neural networking is:\n",
        "\n",
        "```\n",
        "Build a model -> fit it -> evaluate it -> tweak a model -> fit it -> evaluate it -> tweak a model -> fit it -> evaluate it...\n",
        "```"
      ],
      "metadata": {
        "id": "9VZ6auYJuxh2"
      }
    },
    {
      "cell_type": "markdown",
      "source": [
        "When it comes to evaluation... there are 3 words you should memorize:\n",
        "\n",
        "> \"Visualize, visualize, visualize\"\n",
        "\n",
        "It's a good idea to visualize:\n",
        "* **The data** - What data are we working with ? What does it look like ?\n",
        "* **The model itself** - What does model our model look like ?\n",
        "* **The prediction of the model** -How do prediction of a model line up against the ground thuth (the original labels)?\n",
        "\n",
        "\n",
        "\n"
      ],
      "metadata": {
        "id": "f5vb3b9iwMGC"
      }
    },
    {
      "cell_type": "code",
      "source": [
        "# Make a bigger dataset\n",
        "\n",
        "X = tf.range(-100, 100, 4)\n",
        "X"
      ],
      "metadata": {
        "colab": {
          "base_uri": "https://localhost:8080/"
        },
        "id": "XPjMHYBEwiN0",
        "outputId": "98f11006-5869-48f1-ba71-70806d206ed0"
      },
      "execution_count": null,
      "outputs": [
        {
          "output_type": "execute_result",
          "data": {
            "text/plain": [
              "<tf.Tensor: shape=(50,), dtype=int32, numpy=\n",
              "array([-100,  -96,  -92,  -88,  -84,  -80,  -76,  -72,  -68,  -64,  -60,\n",
              "        -56,  -52,  -48,  -44,  -40,  -36,  -32,  -28,  -24,  -20,  -16,\n",
              "        -12,   -8,   -4,    0,    4,    8,   12,   16,   20,   24,   28,\n",
              "         32,   36,   40,   44,   48,   52,   56,   60,   64,   68,   72,\n",
              "         76,   80,   84,   88,   92,   96], dtype=int32)>"
            ]
          },
          "metadata": {},
          "execution_count": 65
        }
      ]
    },
    {
      "cell_type": "code",
      "source": [
        "# Make labels for the dataset\n",
        "\n",
        "y = X + 10\n",
        "y"
      ],
      "metadata": {
        "colab": {
          "base_uri": "https://localhost:8080/"
        },
        "id": "TiQ1UQfOyswd",
        "outputId": "d242de41-f9ef-4761-b314-68ed0c33aa3f"
      },
      "execution_count": null,
      "outputs": [
        {
          "output_type": "execute_result",
          "data": {
            "text/plain": [
              "<tf.Tensor: shape=(50,), dtype=int32, numpy=\n",
              "array([-90, -86, -82, -78, -74, -70, -66, -62, -58, -54, -50, -46, -42,\n",
              "       -38, -34, -30, -26, -22, -18, -14, -10,  -6,  -2,   2,   6,  10,\n",
              "        14,  18,  22,  26,  30,  34,  38,  42,  46,  50,  54,  58,  62,\n",
              "        66,  70,  74,  78,  82,  86,  90,  94,  98, 102, 106], dtype=int32)>"
            ]
          },
          "metadata": {},
          "execution_count": 66
        }
      ]
    },
    {
      "cell_type": "code",
      "source": [
        "# Visualize the data\n",
        "\n",
        "import matplotlib.pyplot as plt\n",
        "\n",
        "plt.scatter(X,y)"
      ],
      "metadata": {
        "colab": {
          "base_uri": "https://localhost:8080/",
          "height": 447
        },
        "id": "dIrQxI0ezpuF",
        "outputId": "9bfb1077-7b24-4c48-fe9b-7f8215330973"
      },
      "execution_count": null,
      "outputs": [
        {
          "output_type": "execute_result",
          "data": {
            "text/plain": [
              "<matplotlib.collections.PathCollection at 0x7fbf3ebfa560>"
            ]
          },
          "metadata": {},
          "execution_count": 67
        },
        {
          "output_type": "display_data",
          "data": {
            "text/plain": [
              "<Figure size 640x480 with 1 Axes>"
            ],
            "image/png": "[encoded data removed]"
          },
          "metadata": {}
        }
      ]
    },
    {
      "cell_type": "markdown",
      "source": [
        "# The 3 sets...\n",
        "\n",
        "* **Training set** - The model learns from this data, which is typically 70-80% of the total data you have available.\n",
        "\n",
        "* **Validation set** - The model gets tuned on this data, which typically 10-15% of the data avaliable.\n",
        "\n",
        "* **Test set**- The model gets evaluated on this data to test what is has leanerd, this set is typically 10-15% of the total data available."
      ],
      "metadata": {
        "id": "RJ7adizl1dRz"
      }
    },
    {
      "cell_type": "code",
      "source": [
        "# Check the length of how many samples we have\n",
        "len(X)"
      ],
      "metadata": {
        "colab": {
          "base_uri": "https://localhost:8080/"
        },
        "id": "sMBpMsph3XWP",
        "outputId": "e97b442d-b8cd-41f3-d1f4-6066a95c7244"
      },
      "execution_count": null,
      "outputs": [
        {
          "output_type": "execute_result",
          "data": {
            "text/plain": [
              "50"
            ]
          },
          "metadata": {},
          "execution_count": 68
        }
      ]
    },
    {
      "cell_type": "code",
      "source": [
        "# Split the data int train and test sets\n",
        "X_train = X[:40] # first 40 are training samples (80% of the data)\n",
        "y_train = y[:40]\n",
        "\n",
        "X_test = X[40:] # last 10 are testing samples(20% of the data)\n",
        "y_test = y[40:]\n",
        "\n",
        "len(X_train), len(X_test), len(y_train), len(y_test)"
      ],
      "metadata": {
        "colab": {
          "base_uri": "https://localhost:8080/"
        },
        "id": "01jrKGpm34P3",
        "outputId": "17807844-139f-4dac-e983-c05d51f08841"
      },
      "execution_count": null,
      "outputs": [
        {
          "output_type": "execute_result",
          "data": {
            "text/plain": [
              "(40, 10, 40, 10)"
            ]
          },
          "metadata": {},
          "execution_count": 217
        }
      ]
    },
    {
      "cell_type": "markdown",
      "source": [
        "### Visualizing the data\n",
        "\n",
        "Now we've got our data in training and test sets... let's visualize it again!"
      ],
      "metadata": {
        "id": "NQFUbLss5_Vn"
      }
    },
    {
      "cell_type": "code",
      "source": [
        "plt.figure(figsize=(10,6))\n",
        "\n",
        "# Plot training data in blue\n",
        "plt.scatter(X_train, y_train, c='b', label=\"Training data\")\n",
        "\n",
        "# Plot testing data in green\n",
        "plt.scatter(X_test, y_test, c='g', label=\"Testing data\")\n",
        "\n",
        "# Show a legend\n",
        "\n",
        "plt.legend();"
      ],
      "metadata": {
        "colab": {
          "base_uri": "https://localhost:8080/",
          "height": 522
        },
        "id": "QPTq7jB56RXf",
        "outputId": "e5efbacd-6e5b-4dcd-efb6-a794ad4594b3"
      },
      "execution_count": null,
      "outputs": [
        {
          "output_type": "display_data",
          "data": {
            "text/plain": [
              "<Figure size 1000x600 with 1 Axes>"
            ],
            "image/png": "[encoded data removed]"
          },
          "metadata": {}
        }
      ]
    },
    {
      "cell_type": "code",
      "source": [
        "from keras import optimizers\n",
        "# Let's have a look at how can build a neural network for our data\n",
        "\n",
        "# 1. Create a model\n",
        "model = tf.keras.Sequential([\n",
        "    tf.keras.layers.Dense(10, input_shape=[1], name='input_layer'),\n",
        "    tf.keras.layers.Dense(1, name='Output_layer')\n",
        "]), name=\"One of many models we're going to build ...\"\n",
        "\n",
        "# 2. Compile a model\n",
        "model.compile(loss=tf.keras.losses.mae,\n",
        "              optimizer=tf.keras.optimizers.SGD(),\n",
        "              metrics=[\"mae\"])\n",
        "\n",
        "# 3. Fit the model\n",
        "# model.fit(X_train, y_train, epochs=100)"
      ],
      "metadata": {
        "id": "r96rVb4P7AL9",
        "colab": {
          "base_uri": "https://localhost:8080/",
          "height": 131
        },
        "outputId": "6ebcdcbb-dfc2-4b08-94f3-d65bb8f326d7"
      },
      "execution_count": null,
      "outputs": [
        {
          "output_type": "error",
          "ename": "SyntaxError",
          "evalue": "ignored",
          "traceback": [
            "\u001b[0;36m  File \u001b[0;32m\"<ipython-input-219-57cf4a79fc47>\"\u001b[0;36m, line \u001b[0;32m5\u001b[0m\n\u001b[0;31m    model = tf.keras.Sequential([\u001b[0m\n\u001b[0m    ^\u001b[0m\n\u001b[0;31mSyntaxError\u001b[0m\u001b[0;31m:\u001b[0m invalid syntax. Maybe you meant '==' or ':=' instead of '='?\n"
          ]
        }
      ]
    },
    {
      "cell_type": "markdown",
      "source": [
        "### Visualizing the model"
      ],
      "metadata": {
        "id": "0bgFFo_Z8uej"
      }
    },
    {
      "cell_type": "code",
      "source": [
        "model.summary()"
      ],
      "metadata": {
        "colab": {
          "base_uri": "https://localhost:8080/"
        },
        "id": "vEdrf0vZ83_1",
        "outputId": "14200c01-9cad-4b5f-8137-d6a06c85fe0e"
      },
      "execution_count": null,
      "outputs": [
        {
          "output_type": "stream",
          "name": "stdout",
          "text": [
            "Model: \"sequential_10\"\n",
            "_________________________________________________________________\n",
            " Layer (type)                Output Shape              Param #   \n",
            "=================================================================\n",
            " dense_8 (Dense)             (None, 50)                100       \n",
            "                                                                 \n",
            " dense_9 (Dense)             (None, 1)                 51        \n",
            "                                                                 \n",
            "=================================================================\n",
            "Total params: 151\n",
            "Trainable params: 151\n",
            "Non-trainable params: 0\n",
            "_________________________________________________________________\n"
          ]
        }
      ]
    },
    {
      "cell_type": "code",
      "source": [
        "# Let's create a model which builds automatically by defining the input_shape argument in the first layer\n",
        "tf.random.set_seed(42)\n",
        "\n",
        "# 1. Create a model (same as above)\n",
        "model = tf.keras.Sequential([\n",
        "    tf.keras.layers.Dense(10, input_shape=[1], name=\"input_layer\"),\n",
        "    tf.keras.layers.Dense(1, name=\"Output_layer\")\n",
        "    ])\n",
        "\n",
        "# 2. Compile a model (same as above)\n",
        "model.compile(loss = tf.keras.losses.mae,\n",
        "               optimizer = tf.keras.optimizers.SGD(),\n",
        "               metrics=[\"mae\"])\n",
        "\n",
        "\n",
        "model.summary()"
      ],
      "metadata": {
        "colab": {
          "base_uri": "https://localhost:8080/"
        },
        "id": "oub2rLs--hBe",
        "outputId": "9583c773-91bb-4365-9829-5600487ccff4"
      },
      "execution_count": null,
      "outputs": [
        {
          "output_type": "stream",
          "name": "stdout",
          "text": [
            "Model: \"sequential_13\"\n",
            "_________________________________________________________________\n",
            " Layer (type)                Output Shape              Param #   \n",
            "=================================================================\n",
            " input_layer (Dense)         (None, 10)                20        \n",
            "                                                                 \n",
            " Output_layer (Dense)        (None, 1)                 11        \n",
            "                                                                 \n",
            "=================================================================\n",
            "Total params: 31\n",
            "Trainable params: 31\n",
            "Non-trainable params: 0\n",
            "_________________________________________________________________\n"
          ]
        }
      ]
    },
    {
      "cell_type": "markdown",
      "source": [
        "* Total params - total number of parameters in the model.\n",
        "* Trainable parameters - These are the paramaters (patterns) the model can update as it trains.\n",
        "* Non-trainable params - these parameters aren't update during training (this is typical when you parameters from other models during **transfer learning** )\n",
        "\n",
        "📖 **Resource:** For more in-depth overview of the trainable parameters within a layer, check out MIT's introduction to deep learning vídeo.\n",
        "\n",
        "⚒**Exercise>** Try playng around with the number of hidden units in the dense layer, see how that effects the number of parameters (total and trainable) by calling `model.summary()`;"
      ],
      "metadata": {
        "id": "ldvNbp42B5M9"
      }
    },
    {
      "cell_type": "code",
      "source": [
        "# Let's fit our model to the training data\n",
        "model.fit(X_train, y_train, epochs=100, verbose=1)"
      ],
      "metadata": {
        "colab": {
          "base_uri": "https://localhost:8080/"
        },
        "id": "cMz_c5yYC7g-",
        "outputId": "3b3b2ca2-9d8b-43d2-8eed-898712fd95f6"
      },
      "execution_count": null,
      "outputs": [
        {
          "output_type": "stream",
          "name": "stdout",
          "text": [
            "Epoch 1/100\n",
            "2/2 [==============================] - 0s 14ms/step - loss: 13.5294 - mae: 13.5294\n",
            "Epoch 2/100\n",
            "2/2 [==============================] - 0s 14ms/step - loss: 11.0707 - mae: 11.0707\n",
            "Epoch 3/100\n",
            "2/2 [==============================] - 0s 16ms/step - loss: 17.0754 - mae: 17.0754\n",
            "Epoch 4/100\n",
            "2/2 [==============================] - 0s 13ms/step - loss: 11.1888 - mae: 11.1888\n",
            "Epoch 5/100\n",
            "2/2 [==============================] - 0s 9ms/step - loss: 12.0881 - mae: 12.0881\n",
            "Epoch 6/100\n",
            "2/2 [==============================] - 0s 9ms/step - loss: 9.8111 - mae: 9.8111\n",
            "Epoch 7/100\n",
            "2/2 [==============================] - 0s 11ms/step - loss: 10.7187 - mae: 10.7187\n",
            "Epoch 8/100\n",
            "2/2 [==============================] - 0s 10ms/step - loss: 10.6826 - mae: 10.6826\n",
            "Epoch 9/100\n",
            "2/2 [==============================] - 0s 10ms/step - loss: 39.3945 - mae: 39.3945\n",
            "Epoch 10/100\n",
            "2/2 [==============================] - 0s 12ms/step - loss: 26.9838 - mae: 26.9838\n",
            "Epoch 11/100\n",
            "2/2 [==============================] - 0s 8ms/step - loss: 10.7852 - mae: 10.7852\n",
            "Epoch 12/100\n",
            "2/2 [==============================] - 0s 8ms/step - loss: 24.2673 - mae: 24.2673\n",
            "Epoch 13/100\n",
            "2/2 [==============================] - 0s 9ms/step - loss: 19.2798 - mae: 19.2798\n",
            "Epoch 14/100\n",
            "2/2 [==============================] - 0s 8ms/step - loss: 23.6519 - mae: 23.6519\n",
            "Epoch 15/100\n",
            "2/2 [==============================] - 0s 9ms/step - loss: 15.9288 - mae: 15.9288\n",
            "Epoch 16/100\n",
            "2/2 [==============================] - 0s 7ms/step - loss: 9.3544 - mae: 9.3544\n",
            "Epoch 17/100\n",
            "2/2 [==============================] - 0s 8ms/step - loss: 16.4346 - mae: 16.4346\n",
            "Epoch 18/100\n",
            "2/2 [==============================] - 0s 8ms/step - loss: 16.7570 - mae: 16.7570\n",
            "Epoch 19/100\n",
            "2/2 [==============================] - 0s 8ms/step - loss: 10.4178 - mae: 10.4178\n",
            "Epoch 20/100\n",
            "2/2 [==============================] - 0s 8ms/step - loss: 16.0177 - mae: 16.0177\n",
            "Epoch 21/100\n",
            "2/2 [==============================] - 0s 7ms/step - loss: 12.6021 - mae: 12.6021\n",
            "Epoch 22/100\n",
            "2/2 [==============================] - 0s 8ms/step - loss: 25.5186 - mae: 25.5186\n",
            "Epoch 23/100\n",
            "2/2 [==============================] - 0s 8ms/step - loss: 11.4304 - mae: 11.4304\n",
            "Epoch 24/100\n",
            "2/2 [==============================] - 0s 8ms/step - loss: 14.3425 - mae: 14.3425\n",
            "Epoch 25/100\n",
            "2/2 [==============================] - 0s 8ms/step - loss: 17.7792 - mae: 17.7792\n",
            "Epoch 26/100\n",
            "2/2 [==============================] - 0s 9ms/step - loss: 14.4425 - mae: 14.4425\n",
            "Epoch 27/100\n",
            "2/2 [==============================] - 0s 8ms/step - loss: 14.5314 - mae: 14.5314\n",
            "Epoch 28/100\n",
            "2/2 [==============================] - 0s 8ms/step - loss: 25.9056 - mae: 25.9056\n",
            "Epoch 29/100\n",
            "2/2 [==============================] - 0s 8ms/step - loss: 9.1078 - mae: 9.1078\n",
            "Epoch 30/100\n",
            "2/2 [==============================] - 0s 7ms/step - loss: 28.2406 - mae: 28.2406\n",
            "Epoch 31/100\n",
            "2/2 [==============================] - 0s 7ms/step - loss: 51.0228 - mae: 51.0228\n",
            "Epoch 32/100\n",
            "2/2 [==============================] - 0s 7ms/step - loss: 10.9689 - mae: 10.9689\n",
            "Epoch 33/100\n",
            "2/2 [==============================] - 0s 10ms/step - loss: 11.7748 - mae: 11.7748\n",
            "Epoch 34/100\n",
            "2/2 [==============================] - 0s 8ms/step - loss: 23.5549 - mae: 23.5549\n",
            "Epoch 35/100\n",
            "2/2 [==============================] - 0s 8ms/step - loss: 12.4451 - mae: 12.4451\n",
            "Epoch 36/100\n",
            "2/2 [==============================] - 0s 9ms/step - loss: 21.5068 - mae: 21.5068\n",
            "Epoch 37/100\n",
            "2/2 [==============================] - 0s 10ms/step - loss: 11.0990 - mae: 11.0990\n",
            "Epoch 38/100\n",
            "2/2 [==============================] - 0s 14ms/step - loss: 13.6400 - mae: 13.6400\n",
            "Epoch 39/100\n",
            "2/2 [==============================] - 0s 11ms/step - loss: 9.6592 - mae: 9.6592\n",
            "Epoch 40/100\n",
            "2/2 [==============================] - 0s 8ms/step - loss: 17.7733 - mae: 17.7733\n",
            "Epoch 41/100\n",
            "2/2 [==============================] - 0s 8ms/step - loss: 10.0879 - mae: 10.0879\n",
            "Epoch 42/100\n",
            "2/2 [==============================] - 0s 9ms/step - loss: 7.0051 - mae: 7.0051\n",
            "Epoch 43/100\n",
            "2/2 [==============================] - 0s 10ms/step - loss: 19.0299 - mae: 19.0299\n",
            "Epoch 44/100\n",
            "2/2 [==============================] - 0s 8ms/step - loss: 20.2393 - mae: 20.2393\n",
            "Epoch 45/100\n",
            "2/2 [==============================] - 0s 10ms/step - loss: 9.9213 - mae: 9.9213\n",
            "Epoch 46/100\n",
            "2/2 [==============================] - 0s 9ms/step - loss: 11.2442 - mae: 11.2442\n",
            "Epoch 47/100\n",
            "2/2 [==============================] - 0s 9ms/step - loss: 9.5752 - mae: 9.5752\n",
            "Epoch 48/100\n",
            "2/2 [==============================] - 0s 8ms/step - loss: 17.2855 - mae: 17.2855\n",
            "Epoch 49/100\n",
            "2/2 [==============================] - 0s 9ms/step - loss: 9.2458 - mae: 9.2458\n",
            "Epoch 50/100\n",
            "2/2 [==============================] - 0s 8ms/step - loss: 13.4480 - mae: 13.4480\n",
            "Epoch 51/100\n",
            "2/2 [==============================] - 0s 8ms/step - loss: 11.3100 - mae: 11.3100\n",
            "Epoch 52/100\n",
            "2/2 [==============================] - 0s 8ms/step - loss: 30.5853 - mae: 30.5853\n",
            "Epoch 53/100\n",
            "2/2 [==============================] - 0s 9ms/step - loss: 17.6730 - mae: 17.6730\n",
            "Epoch 54/100\n",
            "2/2 [==============================] - 0s 9ms/step - loss: 20.7393 - mae: 20.7393\n",
            "Epoch 55/100\n",
            "2/2 [==============================] - 0s 8ms/step - loss: 21.0196 - mae: 21.0196\n",
            "Epoch 56/100\n",
            "2/2 [==============================] - 0s 8ms/step - loss: 10.6090 - mae: 10.6090\n",
            "Epoch 57/100\n",
            "2/2 [==============================] - 0s 9ms/step - loss: 12.5104 - mae: 12.5104\n",
            "Epoch 58/100\n",
            "2/2 [==============================] - 0s 10ms/step - loss: 9.3985 - mae: 9.3985\n",
            "Epoch 59/100\n",
            "2/2 [==============================] - 0s 10ms/step - loss: 12.8343 - mae: 12.8343\n",
            "Epoch 60/100\n",
            "2/2 [==============================] - 0s 10ms/step - loss: 10.4837 - mae: 10.4837\n",
            "Epoch 61/100\n",
            "2/2 [==============================] - 0s 9ms/step - loss: 17.5551 - mae: 17.5551\n",
            "Epoch 62/100\n",
            "2/2 [==============================] - 0s 8ms/step - loss: 10.4728 - mae: 10.4728\n",
            "Epoch 63/100\n",
            "2/2 [==============================] - 0s 8ms/step - loss: 10.8757 - mae: 10.8757\n",
            "Epoch 64/100\n",
            "2/2 [==============================] - 0s 9ms/step - loss: 21.5446 - mae: 21.5446\n",
            "Epoch 65/100\n",
            "2/2 [==============================] - 0s 11ms/step - loss: 9.7300 - mae: 9.7300\n",
            "Epoch 66/100\n",
            "2/2 [==============================] - 0s 7ms/step - loss: 23.5938 - mae: 23.5938\n",
            "Epoch 67/100\n",
            "2/2 [==============================] - 0s 7ms/step - loss: 10.4524 - mae: 10.4524\n",
            "Epoch 68/100\n",
            "2/2 [==============================] - 0s 8ms/step - loss: 15.3302 - mae: 15.3302\n",
            "Epoch 69/100\n",
            "2/2 [==============================] - 0s 7ms/step - loss: 9.7300 - mae: 9.7300\n",
            "Epoch 70/100\n",
            "2/2 [==============================] - 0s 7ms/step - loss: 11.7740 - mae: 11.7740\n",
            "Epoch 71/100\n",
            "2/2 [==============================] - 0s 8ms/step - loss: 15.3658 - mae: 15.3658\n",
            "Epoch 72/100\n",
            "2/2 [==============================] - 0s 7ms/step - loss: 11.5650 - mae: 11.5650\n",
            "Epoch 73/100\n",
            "2/2 [==============================] - 0s 7ms/step - loss: 16.4718 - mae: 16.4718\n",
            "Epoch 74/100\n",
            "2/2 [==============================] - 0s 7ms/step - loss: 24.3913 - mae: 24.3913\n",
            "Epoch 75/100\n",
            "2/2 [==============================] - 0s 8ms/step - loss: 6.7844 - mae: 6.7844\n",
            "Epoch 76/100\n",
            "2/2 [==============================] - 0s 7ms/step - loss: 22.1032 - mae: 22.1032\n",
            "Epoch 77/100\n",
            "2/2 [==============================] - 0s 8ms/step - loss: 10.5669 - mae: 10.5669\n",
            "Epoch 78/100\n",
            "2/2 [==============================] - 0s 9ms/step - loss: 14.8099 - mae: 14.8099\n",
            "Epoch 79/100\n",
            "2/2 [==============================] - 0s 7ms/step - loss: 16.3108 - mae: 16.3108\n",
            "Epoch 80/100\n",
            "2/2 [==============================] - 0s 8ms/step - loss: 21.4328 - mae: 21.4328\n",
            "Epoch 81/100\n",
            "2/2 [==============================] - 0s 9ms/step - loss: 9.6630 - mae: 9.6630\n",
            "Epoch 82/100\n",
            "2/2 [==============================] - 0s 11ms/step - loss: 13.4799 - mae: 13.4799\n",
            "Epoch 83/100\n",
            "2/2 [==============================] - 0s 10ms/step - loss: 17.7006 - mae: 17.7006\n",
            "Epoch 84/100\n",
            "2/2 [==============================] - 0s 8ms/step - loss: 7.4872 - mae: 7.4872\n",
            "Epoch 85/100\n",
            "2/2 [==============================] - 0s 8ms/step - loss: 14.2154 - mae: 14.2154\n",
            "Epoch 86/100\n",
            "2/2 [==============================] - 0s 13ms/step - loss: 17.5050 - mae: 17.5050\n",
            "Epoch 87/100\n",
            "2/2 [==============================] - 0s 9ms/step - loss: 23.3339 - mae: 23.3339\n",
            "Epoch 88/100\n",
            "2/2 [==============================] - 0s 9ms/step - loss: 25.4037 - mae: 25.4037\n",
            "Epoch 89/100\n",
            "2/2 [==============================] - 0s 9ms/step - loss: 9.1856 - mae: 9.1856\n",
            "Epoch 90/100\n",
            "2/2 [==============================] - 0s 10ms/step - loss: 17.9291 - mae: 17.9291\n",
            "Epoch 91/100\n",
            "2/2 [==============================] - 0s 9ms/step - loss: 10.0138 - mae: 10.0138\n",
            "Epoch 92/100\n",
            "2/2 [==============================] - 0s 9ms/step - loss: 17.3090 - mae: 17.3090\n",
            "Epoch 93/100\n",
            "2/2 [==============================] - 0s 7ms/step - loss: 6.5696 - mae: 6.5696\n",
            "Epoch 94/100\n",
            "2/2 [==============================] - 0s 10ms/step - loss: 17.5339 - mae: 17.5339\n",
            "Epoch 95/100\n",
            "2/2 [==============================] - 0s 9ms/step - loss: 17.1975 - mae: 17.1975\n",
            "Epoch 96/100\n",
            "2/2 [==============================] - 0s 8ms/step - loss: 11.6687 - mae: 11.6687\n",
            "Epoch 97/100\n",
            "2/2 [==============================] - 0s 8ms/step - loss: 21.2696 - mae: 21.2696\n",
            "Epoch 98/100\n",
            "2/2 [==============================] - 0s 7ms/step - loss: 10.1249 - mae: 10.1249\n",
            "Epoch 99/100\n",
            "2/2 [==============================] - 0s 11ms/step - loss: 14.2746 - mae: 14.2746\n",
            "Epoch 100/100\n",
            "2/2 [==============================] - 0s 7ms/step - loss: 17.4698 - mae: 17.4698\n"
          ]
        },
        {
          "output_type": "execute_result",
          "data": {
            "text/plain": [
              "<keras.callbacks.History at 0x7fbf3dddb220>"
            ]
          },
          "metadata": {},
          "execution_count": 223
        }
      ]
    },
    {
      "cell_type": "code",
      "source": [
        "from keras.utils import plot_model\n",
        "plot_model(model=model, show_shapes=True)"
      ],
      "metadata": {
        "id": "catCDRPkKVWg",
        "colab": {
          "base_uri": "https://localhost:8080/",
          "height": 312
        },
        "outputId": "bef7bf7e-976b-4c19-db0f-38db0334a36b"
      },
      "execution_count": null,
      "outputs": [
        {
          "output_type": "execute_result",
          "data": {
            "image/png": "[encoded data removed]",
            "text/plain": [
              "<IPython.core.display.Image object>"
            ]
          },
          "metadata": {},
          "execution_count": 224
        }
      ]
    },
    {
      "cell_type": "markdown",
      "source": [
        "### Visualizing our model's predictions\n",
        "\n",
        "To visualize predictions, it's a good idea to plot them against the ground truth labels.\n",
        "\n",
        "Often you'll see this in the form of `y_test` or `y_true` versus `y_preds` (ground truth versus your model's predictions)\n"
      ],
      "metadata": {
        "id": "s7qdFSEB_wrj"
      }
    },
    {
      "cell_type": "code",
      "source": [
        "# Make predictions\n",
        "y_pred = model.predict(X_test)\n",
        "y_pred"
      ],
      "metadata": {
        "colab": {
          "base_uri": "https://localhost:8080/"
        },
        "id": "ldMnda_bA9HK",
        "outputId": "7b9794de-8e08-4838-ed90-36c318273fd7"
      },
      "execution_count": null,
      "outputs": [
        {
          "output_type": "stream",
          "name": "stdout",
          "text": [
            "1/1 [==============================] - 0s 34ms/step\n"
          ]
        },
        {
          "output_type": "execute_result",
          "data": {
            "text/plain": [
              "array([[ 69.80496 ],\n",
              "       [ 74.32249 ],\n",
              "       [ 78.84001 ],\n",
              "       [ 83.35754 ],\n",
              "       [ 87.87506 ],\n",
              "       [ 92.392586],\n",
              "       [ 96.9101  ],\n",
              "       [101.42763 ],\n",
              "       [105.94515 ],\n",
              "       [110.46266 ]], dtype=float32)"
            ]
          },
          "metadata": {},
          "execution_count": 233
        }
      ]
    },
    {
      "cell_type": "code",
      "source": [
        "y_test"
      ],
      "metadata": {
        "colab": {
          "base_uri": "https://localhost:8080/"
        },
        "id": "hYxi4nrABR-g",
        "outputId": "d8378186-4c8a-447e-82a2-e694d23296cf"
      },
      "execution_count": null,
      "outputs": [
        {
          "output_type": "execute_result",
          "data": {
            "text/plain": [
              "<tf.Tensor: shape=(10,), dtype=int32, numpy=array([ 70,  74,  78,  82,  86,  90,  94,  98, 102, 106], dtype=int32)>"
            ]
          },
          "metadata": {},
          "execution_count": 226
        }
      ]
    },
    {
      "cell_type": "markdown",
      "source": [
        "🔑 **Note:** If you feel like you're going to reuse some kind of functionality in the future, it's a good idea to turn it into a function."
      ],
      "metadata": {
        "id": "jS4p6DwJBxKh"
      }
    },
    {
      "cell_type": "code",
      "source": [
        "# Let's create a plot function\n",
        "def plot_predictions(train_data=X_train,\n",
        "                     train_labels=y_train,\n",
        "                     test_data=X_test,\n",
        "                     test_labels=y_test,\n",
        "                     predictions=y_pred):\n",
        "\n",
        "  \"\"\"\n",
        "  Plots training data, test data and compares predictions to ground truth labels.\n",
        "  \"\"\"\n",
        "\n",
        "  plt.figure(figsize=(10,7))\n",
        "\n",
        "# Plot training data in blue\n",
        "  plt.scatter(train_data, train_labels, c='b', label= \"Training data\")\n",
        "\n",
        "#Plot testing data in green\n",
        "  plt.scatter(test_data, test_labels, c=\"g\", label=\"Test data\")\n",
        "\n",
        "#Plot model's predictions in red\n",
        "  plt.scatter(test_data, predictions, c=\"r\", label=\"predictions\")\n",
        "\n",
        "#Plot legend\n",
        "  plt.legend();"
      ],
      "metadata": {
        "id": "65N4pR4lBYfe"
      },
      "execution_count": null,
      "outputs": []
    },
    {
      "cell_type": "code",
      "source": [
        "plot_predictions()"
      ],
      "metadata": {
        "colab": {
          "base_uri": "https://localhost:8080/",
          "height": 599
        },
        "id": "8z4NAOY-I8pd",
        "outputId": "f5e07718-7c25-439f-aeba-8c08a1c8f2a2"
      },
      "execution_count": null,
      "outputs": [
        {
          "output_type": "display_data",
          "data": {
            "text/plain": [
              "<Figure size 1000x700 with 1 Axes>"
            ],
            "image/png": "[encoded data removed]"
          },
          "metadata": {}
        }
      ]
    },
    {
      "cell_type": "markdown",
      "source": [
        "### Evaluating our model's predictions with regression evaluation metrics\n",
        "Depending on the problem you're working on, there will be different evaluation metrics to evaluate your model's performance.\n",
        "\n",
        "Since we're working on a regression, two of the main metrics:\n",
        "\n",
        "* MAE- mean absolute error, \"on average, how wrong is each of my model's predictions.\"\n",
        "\n",
        "*MSE -mean square error, \"square the average errors\""
      ],
      "metadata": {
        "id": "ummXfs2hKD36"
      }
    },
    {
      "cell_type": "code",
      "source": [
        "# Evaluate the model on the test\n",
        "\n",
        "model.evaluate(X_test, y_test)"
      ],
      "metadata": {
        "colab": {
          "base_uri": "https://localhost:8080/"
        },
        "id": "5Ru2xXVbKSrZ",
        "outputId": "2ec90d6a-e570-44f2-caf9-9630fa4876e5"
      },
      "execution_count": null,
      "outputs": [
        {
          "output_type": "stream",
          "name": "stdout",
          "text": [
            "1/1 [==============================] - 0s 125ms/step - loss: 2.1728 - mae: 2.1728\n"
          ]
        },
        {
          "output_type": "execute_result",
          "data": {
            "text/plain": [
              "[2.1728248596191406, 2.1728248596191406]"
            ]
          },
          "metadata": {},
          "execution_count": 229
        }
      ]
    },
    {
      "cell_type": "code",
      "source": [
        "# Calculate the mean absolute error"
      ],
      "metadata": {
        "id": "f1b7K2K8Qpdg"
      },
      "execution_count": null,
      "outputs": []
    },
    {
      "cell_type": "code",
      "source": [
        "y_pred"
      ],
      "metadata": {
        "colab": {
          "base_uri": "https://localhost:8080/"
        },
        "id": "AA1DNE-MNj_4",
        "outputId": "2910a4ca-6977-4a69-f271-e0a82863ba98"
      },
      "execution_count": null,
      "outputs": [
        {
          "output_type": "execute_result",
          "data": {
            "text/plain": [
              "array([[ 69.80496 ],\n",
              "       [ 74.32249 ],\n",
              "       [ 78.84001 ],\n",
              "       [ 83.35754 ],\n",
              "       [ 87.87506 ],\n",
              "       [ 92.392586],\n",
              "       [ 96.9101  ],\n",
              "       [101.42763 ],\n",
              "       [105.94515 ],\n",
              "       [110.46266 ]], dtype=float32)"
            ]
          },
          "metadata": {},
          "execution_count": 230
        }
      ]
    },
    {
      "cell_type": "code",
      "source": [
        "y_test"
      ],
      "metadata": {
        "colab": {
          "base_uri": "https://localhost:8080/"
        },
        "id": "9crSeqjwQfmp",
        "outputId": "6f2b5470-195a-4496-a3cb-5188ec5c52e8"
      },
      "execution_count": null,
      "outputs": [
        {
          "output_type": "execute_result",
          "data": {
            "text/plain": [
              "<tf.Tensor: shape=(10,), dtype=int32, numpy=array([ 70,  74,  78,  82,  86,  90,  94,  98, 102, 106], dtype=int32)>"
            ]
          },
          "metadata": {},
          "execution_count": 231
        }
      ]
    },
    {
      "cell_type": "code",
      "source": [
        "mae = tf.metrics.mean_absolute_error(y_true=y_test,\n",
        "                                     y_pred=tf.squeeze(y_pred))\n",
        "mae"
      ],
      "metadata": {
        "colab": {
          "base_uri": "https://localhost:8080/"
        },
        "id": "kg7PifJuRPru",
        "outputId": "cb2d1ab5-25c8-43b1-e152-d723b6ac2c45"
      },
      "execution_count": null,
      "outputs": [
        {
          "output_type": "execute_result",
          "data": {
            "text/plain": [
              "<tf.Tensor: shape=(), dtype=float32, numpy=2.1728263>"
            ]
          },
          "metadata": {},
          "execution_count": 235
        }
      ]
    }
  ]
}